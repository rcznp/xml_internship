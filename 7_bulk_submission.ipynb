{
 "cells": [
  {
   "cell_type": "code",
   "execution_count": 1,
   "id": "be4fa31e",
   "metadata": {},
   "outputs": [],
   "source": [
    "import pandas as pd\n",
    "import re\n",
    "from lxml import etree\n",
    "import shutil\n",
    "import os\n",
    "import math\n",
    "import copy\n",
    "import glob\n",
    "import numpy as np"
   ]
  },
  {
   "cell_type": "code",
   "execution_count": 2,
   "id": "96f8ab03",
   "metadata": {},
   "outputs": [],
   "source": [
    "def load_base_value_iden(file_path):\n",
    "    if os.path.exists(file_path):\n",
    "        \n",
    "        # File exists, load the variable from the file\n",
    "        if os.path.getsize(file_path) > 0:\n",
    "                    # File is not empty, load the variable from the file\n",
    "            with open(file_path, 'r') as file:\n",
    "                \n",
    "                variable_loaded = file.read().strip()\n",
    "#                 print('loading')\n",
    "#                 print(variable_loaded)\n",
    "        else:\n",
    "            # File exists but is empty, initialize with a default value\n",
    "            variable_loaded = \"11e1d6e4-74ba-49cc-9b55-1\"\n",
    "    else:\n",
    "        # File does not exist, create the file and write the variable to it\n",
    "#         print('+++++')\n",
    "        print('creating file...')\n",
    "        variable_to_store = \"11e1d6e4-74ba-49cc-9b55-1\"\n",
    "        with open(file_path, 'w') as file:\n",
    "            file.write(variable_to_store)\n",
    "        variable_loaded = variable_to_store\n",
    "        \n",
    "    return variable_loaded\n",
    "def save_base_value_iden(file_path,variable_to_store):\n",
    "    \n",
    "    # Write the variable to the file\n",
    "    with open(file_path, 'w') as file:\n",
    "        file.write(variable_to_store)\n",
    "def increment_value_iden(value,file_path):\n",
    "\n",
    "    str_last = value.split('-')[-1]\n",
    "    last= int(str_last)\n",
    "    last+=1\n",
    "    \n",
    "    exclude_last = value.split('-')[:-1]\n",
    "    temp = '-'.join(exclude_last)\n",
    "\n",
    "    new_identifier = temp + '-' + str(last)\n",
    "    \n",
    "    if os.path.exists(file_path):\n",
    "        with open(file_path, 'w') as file:\n",
    "            variable_to_store = new_identifier\n",
    "#             print('writing')\n",
    "#             print(variable_to_store)\n",
    "            file.write(variable_to_store)\n",
    "    else:\n",
    "        print('load base value first')\n",
    "def adjust_identifier(root_copy,filepath_base_identifier):\n",
    "    base_identifier = load_base_value_iden(filepath_base_identifier)\n",
    "\n",
    "    for index,e in enumerate(root_copy.iter()):\n",
    "        if index == 10:#rsender identifier:\n",
    "            e.text = base_identifier\n",
    "            increment_value_iden(base_identifier,filepath_base_identifier)\n",
    "        return 'cac'.join(t_split)"
   ]
  },
  {
   "cell_type": "code",
   "execution_count": 3,
   "id": "ff1b8fd4",
   "metadata": {},
   "outputs": [],
   "source": [
    "\n",
    "sheet_name = '7_Bulk Submission'\n",
    "\n",
    "output_folder = '/Users/cheongray/iras_api_clean_1/' + sheet_name\n",
    "os.makedirs(output_folder, exist_ok=True)  # Create folder if it doesn't exist\n",
    "\n",
    "output_file = os.path.join(output_folder, 'df_full.csv')\n",
    "output_file_original = os.path.join(output_folder, 'df_full_back_up.csv')\n",
    "if os.path.exists(output_file):\n",
    "    os.remove(output_file)\n",
    "if os.path.exists(output_file_original):\n",
    "    os.remove(output_file_original)\n"
   ]
  },
  {
   "cell_type": "code",
   "execution_count": 4,
   "id": "0567c09a",
   "metadata": {},
   "outputs": [],
   "source": [
    "file_path = r\"/Users/cheongray/iras_api_pytest_1/AP_SP_files/AP_SP_FINAL_5.xlsx\"#download to here from emails\n",
    "filepath_base_identifier = '/Users/cheongray/iras_api_make_xml/identifier_store/stored_base_identifier_conditional_validation.txt'\n",
    "path_to_sample_xml_files_folder = r\"/Users/cheongray/iras_api_clean_1/sample_xml_files\"\n",
    "\n",
    "df_s = pd.read_excel(file_path, sheet_name=sheet_name , keep_default_na=False, na_values=['NA'])\n",
    "df_s_temp = df_s.copy()\n",
    "df_s_temp = df_s_temp.fillna('NA')\n",
    "df_s_temp['Test Case ID'] = df_s_temp.index.astype(float)#REMINDER,now test_case_id is 1_1\n",
    "# df_s_peppol = df_s_temp[(df_s_temp['Standard'] == 'PEPPOL') & (df_s_temp['Document Type'] == 'Invoice')].copy()\n",
    "# df_s_peppol['Test Case ID'] = df_s_peppol['Test Case ID'] + 1\n",
    "# df_s_peppol.reset_index(drop=True)\n",
    "df_s_temp['Test Case ID'] = df_s_temp['Test Case ID'] + 1\n",
    "df_s_temp.to_csv(output_file, index=False)\n",
    "df_s_temp.to_csv(output_file_original, index=False)"
   ]
  },
  {
   "cell_type": "code",
   "execution_count": 5,
   "id": "f68556d3",
   "metadata": {},
   "outputs": [],
   "source": [
    "\n",
    "df_s_temp_subset = df_s_temp.copy()\n",
    "\n",
    "unique_descriptions = set()\n",
    "\n",
    "target_elements_syn = []\n",
    "\n",
    "for index,row in df_s_temp_subset.iterrows():\n",
    "    filled_columns = row.dropna().index\n",
    "    test_case_id = f' {index}'\n",
    "    descript = row['Test Case Description']\n",
    "#     print(f'Test case {index+1}')\n",
    "#     print(f'Test case description : {descript}')\n",
    "    unique_descriptions.add(descript)#just to build function_mapping\n",
    "    temp={}\n",
    "    temp['Test Case ID'] = int(row['Test Case ID'])\n",
    "    id = int(row['Test Case ID'])\n",
    "    temp['descript'] = descript\n",
    "    temp['Expected Result'] = row['Expected Result Response (for 400 response)']\n",
    "    temp['Status'] = row['Expected Result']\n",
    "    temp['Fields'] = []\n",
    "    temp['Sample'] = row['Sample']\n",
    "    for i, col in enumerate(filled_columns, start=1):\n",
    "        field_name = f'Field {i}'\n",
    "        if field_name in df_s_temp_subset.columns:\n",
    "            # Process the data as needed\n",
    "#             print(f'Column: {field_name}, Value: {row[field_name]}')\n",
    "   \n",
    "            \n",
    "            temp_2 = [] #each field will be one array,can do dict but mor steps when want access\n",
    "            if not pd.isna(row[field_name]):\n",
    "                field_value = field_name + ' Value'\n",
    "                field_name_insert = fix_space_typo(row[field_name])\n",
    "                temp_2.append(field_name_insert)\n",
    "                temp_2.append(row[field_value])\n",
    "                if field_name_insert == '':\n",
    "                    continue\n",
    "                else:\n",
    "                    temp['Fields'].append(temp_2)\n",
    "        \n",
    "    target_elements_syn.append(temp)\n",
    "\n",
    "            \n"
   ]
  },
  {
   "cell_type": "code",
   "execution_count": 6,
   "id": "8c7e455a",
   "metadata": {},
   "outputs": [
    {
     "data": {
      "text/plain": [
       "'/Users/cheongray/iras_api_clean_1/7_Bulk Submission/xml_files_for_7_Bulk Submission'"
      ]
     },
     "execution_count": 6,
     "metadata": {},
     "output_type": "execute_result"
    }
   ],
   "source": [
    "folder_name = output_folder + '/xml_files_for'+'_'+sheet_name\n",
    "folder_name"
   ]
  },
  {
   "cell_type": "code",
   "execution_count": 7,
   "id": "47cfb2ad",
   "metadata": {},
   "outputs": [
    {
     "name": "stdout",
     "output_type": "stream",
     "text": [
      "21\n",
      "22\n",
      "23\n",
      "24\n",
      "25\n",
      "26\n",
      "27\n",
      "28\n",
      "29\n"
     ]
    }
   ],
   "source": [
    "# path_to_sample_xml_files = '/Users/cheongray/iras_api_pytest_1/sample_xml_files'\n",
    "#gets the needed files for 2_Conditional_Input_Validation\n",
    "file_paths_xml_files = {}\n",
    "\n",
    "for i,test_case in enumerate(target_elements_syn):\n",
    "    \n",
    "    sample_to_use= str(test_case['Sample'])\n",
    "    print(sample_to_use)\n",
    "    \n",
    "    file_name = 'sample' + '_' + sample_to_use+ '.xml'\n",
    "    \n",
    "    path_to_sample_xml_files = path_to_sample_xml_files_folder + '/' + file_name\n",
    "    \n",
    "    file_paths_xml_files[sample_to_use] = path_to_sample_xml_files\n"
   ]
  },
  {
   "cell_type": "code",
   "execution_count": 8,
   "id": "4448fd0d",
   "metadata": {},
   "outputs": [
    {
     "data": {
      "text/plain": [
       "{'21': '/Users/cheongray/iras_api_clean_1/sample_xml_files/sample_21.xml',\n",
       " '22': '/Users/cheongray/iras_api_clean_1/sample_xml_files/sample_22.xml',\n",
       " '23': '/Users/cheongray/iras_api_clean_1/sample_xml_files/sample_23.xml',\n",
       " '24': '/Users/cheongray/iras_api_clean_1/sample_xml_files/sample_24.xml',\n",
       " '25': '/Users/cheongray/iras_api_clean_1/sample_xml_files/sample_25.xml',\n",
       " '26': '/Users/cheongray/iras_api_clean_1/sample_xml_files/sample_26.xml',\n",
       " '27': '/Users/cheongray/iras_api_clean_1/sample_xml_files/sample_27.xml',\n",
       " '28': '/Users/cheongray/iras_api_clean_1/sample_xml_files/sample_28.xml',\n",
       " '29': '/Users/cheongray/iras_api_clean_1/sample_xml_files/sample_29.xml'}"
      ]
     },
     "execution_count": 8,
     "metadata": {},
     "output_type": "execute_result"
    }
   ],
   "source": [
    "file_paths_xml_files"
   ]
  },
  {
   "cell_type": "code",
   "execution_count": 9,
   "id": "862d1a12",
   "metadata": {},
   "outputs": [
    {
     "data": {
      "text/plain": [
       "'/Users/cheongray/iras_api_clean_1/7_Bulk Submission/xml_files_for_7_Bulk Submission'"
      ]
     },
     "execution_count": 9,
     "metadata": {},
     "output_type": "execute_result"
    }
   ],
   "source": [
    "folder_name"
   ]
  },
  {
   "cell_type": "code",
   "execution_count": 10,
   "id": "f3b38732",
   "metadata": {},
   "outputs": [
    {
     "data": {
      "text/plain": [
       "[{'Test Case ID': 1,\n",
       "  'descript': 'Multiple invoices in one single submission (<=10)',\n",
       "  'Expected Result': '',\n",
       "  'Status': 200,\n",
       "  'Fields': [],\n",
       "  'Sample': 21},\n",
       " {'Test Case ID': 2,\n",
       "  'descript': 'Multiple credit notes in one single submission (<=10)',\n",
       "  'Expected Result': '',\n",
       "  'Status': 200,\n",
       "  'Fields': [],\n",
       "  'Sample': 22},\n",
       " {'Test Case ID': 3,\n",
       "  'descript': 'Multiple invoices and credit notes in one single submission',\n",
       "  'Expected Result': '',\n",
       "  'Status': 400,\n",
       "  'Fields': [],\n",
       "  'Sample': 23},\n",
       " {'Test Case ID': 4,\n",
       "  'descript': 'Multiple invoices in one single submission (>10)',\n",
       "  'Expected Result': '',\n",
       "  'Status': 400,\n",
       "  'Fields': [],\n",
       "  'Sample': 24},\n",
       " {'Test Case ID': 5,\n",
       "  'descript': 'Multiple credit notes in one single submission (>10)',\n",
       "  'Expected Result': '',\n",
       "  'Status': 400,\n",
       "  'Fields': [],\n",
       "  'Sample': 25},\n",
       " {'Test Case ID': 6,\n",
       "  'descript': 'PEPPOL invoice(s) within the body',\n",
       "  'Expected Result': '',\n",
       "  'Status': 200,\n",
       "  'Fields': [],\n",
       "  'Sample': 26},\n",
       " {'Test Case ID': 7,\n",
       "  'descript': 'Number of document UUIDs does not match number of documents',\n",
       "  'Expected Result': '',\n",
       "  'Status': 200,\n",
       "  'Fields': [],\n",
       "  'Sample': 27},\n",
       " {'Test Case ID': 8,\n",
       "  'descript': 'XML is not well formed (one single invoice container)',\n",
       "  'Expected Result': '',\n",
       "  'Status': 400,\n",
       "  'Fields': [],\n",
       "  'Sample': 28},\n",
       " {'Test Case ID': 9,\n",
       "  'descript': ' Two invoices fail validation rule: does not contain mandatory fields (invoice type code, document currency code)',\n",
       "  'Expected Result': '',\n",
       "  'Status': 200,\n",
       "  'Fields': [],\n",
       "  'Sample': 29}]"
      ]
     },
     "execution_count": 10,
     "metadata": {},
     "output_type": "execute_result"
    }
   ],
   "source": [
    "target_elements_syn"
   ]
  },
  {
   "cell_type": "code",
   "execution_count": 11,
   "id": "70e5a96e",
   "metadata": {},
   "outputs": [
    {
     "data": {
      "text/plain": [
       "{'21': '/Users/cheongray/iras_api_clean_1/sample_xml_files/sample_21.xml',\n",
       " '22': '/Users/cheongray/iras_api_clean_1/sample_xml_files/sample_22.xml',\n",
       " '23': '/Users/cheongray/iras_api_clean_1/sample_xml_files/sample_23.xml',\n",
       " '24': '/Users/cheongray/iras_api_clean_1/sample_xml_files/sample_24.xml',\n",
       " '25': '/Users/cheongray/iras_api_clean_1/sample_xml_files/sample_25.xml',\n",
       " '26': '/Users/cheongray/iras_api_clean_1/sample_xml_files/sample_26.xml',\n",
       " '27': '/Users/cheongray/iras_api_clean_1/sample_xml_files/sample_27.xml',\n",
       " '28': '/Users/cheongray/iras_api_clean_1/sample_xml_files/sample_28.xml',\n",
       " '29': '/Users/cheongray/iras_api_clean_1/sample_xml_files/sample_29.xml'}"
      ]
     },
     "execution_count": 11,
     "metadata": {},
     "output_type": "execute_result"
    }
   ],
   "source": [
    "file_paths_xml_files"
   ]
  },
  {
   "cell_type": "code",
   "execution_count": 57,
   "id": "dc1ac0a2",
   "metadata": {},
   "outputs": [
    {
     "name": "stdout",
     "output_type": "stream",
     "text": [
      "/Users/cheongray/iras_api_clean_1/7_Bulk Submission/xml_files_for_7_Bulk Submission/1_sample_21.xml\n",
      "/Users/cheongray/iras_api_clean_1/7_Bulk Submission/xml_files_for_7_Bulk Submission/2_sample_22.xml\n",
      "/Users/cheongray/iras_api_clean_1/7_Bulk Submission/xml_files_for_7_Bulk Submission/3_sample_23.xml\n",
      "/Users/cheongray/iras_api_clean_1/7_Bulk Submission/xml_files_for_7_Bulk Submission/4_sample_24.xml\n",
      "/Users/cheongray/iras_api_clean_1/7_Bulk Submission/xml_files_for_7_Bulk Submission/5_sample_25.xml\n",
      "/Users/cheongray/iras_api_clean_1/7_Bulk Submission/xml_files_for_7_Bulk Submission/6_sample_26.xml\n",
      "/Users/cheongray/iras_api_clean_1/7_Bulk Submission/xml_files_for_7_Bulk Submission/7_sample_27.xml\n",
      "/Users/cheongray/iras_api_clean_1/7_Bulk Submission/xml_files_for_7_Bulk Submission/8_sample_28.xml\n",
      "/Users/cheongray/iras_api_clean_1/7_Bulk Submission/xml_files_for_7_Bulk Submission/9_sample_29.xml\n"
     ]
    }
   ],
   "source": [
    "destination_folder = folder_name\n",
    "if not os.path.exists(folder_name):\n",
    "    os.makedirs(folder_name)\n",
    "if os.path.exists(folder_name):\n",
    "    shutil.rmtree(folder_name)\n",
    "    os.makedirs(folder_name)\n",
    "for index,test_case in enumerate(target_elements_syn):\n",
    "    test_case_id = test_case['Test Case ID']\n",
    "    sample_key = str(test_case['Sample'])\n",
    "    sample_path = file_paths_xml_files[sample_key]\n",
    "    destination_path = os.path.join(destination_folder, f\"{test_case_id}_{os.path.basename(sample_path)}\")\n",
    "    print(destination_path)\n",
    "    shutil.copy(sample_path, destination_path)"
   ]
  },
  {
   "cell_type": "code",
   "execution_count": 58,
   "id": "f5f4dd2a",
   "metadata": {},
   "outputs": [
    {
     "data": {
      "text/plain": [
       "'/Users/cheongray/iras_api_clean_1/7_Bulk Submission/xml_files_for_7_Bulk Submission'"
      ]
     },
     "execution_count": 58,
     "metadata": {},
     "output_type": "execute_result"
    }
   ],
   "source": [
    "destination_folder"
   ]
  },
  {
   "cell_type": "code",
   "execution_count": 59,
   "id": "38c33cbf",
   "metadata": {},
   "outputs": [
    {
     "name": "stdout",
     "output_type": "stream",
     "text": [
      "1\n",
      "6\n",
      "2\n",
      "5\n",
      "9\n",
      "8\n",
      "3\n",
      "4\n",
      "7\n"
     ]
    }
   ],
   "source": [
    "xml_files = [f for f in os.listdir(destination_folder) if f.endswith('.xml')]\n",
    "for file in xml_files:\n",
    "    t_id = file.split('_')[0]\n",
    "    print(t_id)"
   ]
  },
  {
   "cell_type": "code",
   "execution_count": 60,
   "id": "285668d9",
   "metadata": {},
   "outputs": [],
   "source": [
    "# if not os.path.exists(folder_name):\n",
    "#     os.makedirs(folder_name)\n",
    "# if os.path.exists(folder_name):\n",
    "#     shutil.rmtree(folder_name)\n",
    "#     os.makedirs(folder_name)\n",
    "\n",
    "# destination_folder = folder_name\n",
    "\n",
    "# for key, file_path in file_paths_xml_files.items():\n",
    "# #     print(file_path)\n",
    "#     if os.path.exists(file_path):\n",
    "#         destination_path = os.path.join(destination_folder, os.path.basename(file_path))\n",
    "#         print(destination_path)\n",
    "# #         print(destination_path)\n",
    "# #         shutil.copy(file_path, destination_path)\n",
    "# #         print(f\"Copied {file_path} to {destination_path}\")\n",
    "# #     else:\n",
    "# #         print(f\"File {file_path} does not exist\")"
   ]
  },
  {
   "cell_type": "code",
   "execution_count": 61,
   "id": "c699a213",
   "metadata": {},
   "outputs": [
    {
     "data": {
      "text/plain": [
       "'/Users/cheongray/iras_api_clean_1/7_Bulk Submission/xml_files_for_7_Bulk Submission'"
      ]
     },
     "execution_count": 61,
     "metadata": {},
     "output_type": "execute_result"
    }
   ],
   "source": [
    "destination_folder"
   ]
  },
  {
   "cell_type": "code",
   "execution_count": 62,
   "id": "e47062aa",
   "metadata": {},
   "outputs": [
    {
     "data": {
      "text/plain": [
       "'11checking_test-74ba-49cc-9b55-13052'"
      ]
     },
     "execution_count": 62,
     "metadata": {},
     "output_type": "execute_result"
    }
   ],
   "source": [
    "load_base_value_iden(filepath_base_identifier)"
   ]
  },
  {
   "cell_type": "code",
   "execution_count": 63,
   "id": "3de14f7e",
   "metadata": {},
   "outputs": [],
   "source": [
    "xml_files = glob.glob(os.path.join(destination_folder, '*.xml'))"
   ]
  },
  {
   "cell_type": "code",
   "execution_count": 64,
   "id": "ebda2991",
   "metadata": {},
   "outputs": [],
   "source": [
    "def parse_xml(filepath_base_identifier):\n",
    "    # Parse the XML file\n",
    "    tree = etree.parse(filepath_base_identifier)\n",
    "    # Get the root element\n",
    "    root = tree.getroot()\n",
    "    \n",
    "    # Process the XML tree without printing\n",
    "    return root    "
   ]
  },
  {
   "cell_type": "code",
   "execution_count": 65,
   "id": "6ca4e3b5",
   "metadata": {},
   "outputs": [
    {
     "name": "stdout",
     "output_type": "stream",
     "text": [
      "original identifier11e1d6e4-74ba-49cc-9b56-b7a3a7204888\n",
      "new identifier11checking_test-74ba-49cc-9b55-13052\n",
      "original identifier66e1d6e4-74ba-49cc-9b56-b7a3a10497279\n",
      "new identifier11checking_test-74ba-49cc-9b55-13053\n",
      "original identifier22e1d6e4-74ba-49cc-9b56-b7a3a999999\n",
      "new identifier11checking_test-74ba-49cc-9b55-13054\n",
      "original identifier55e1d6e4-74ba-49cc-9b56-b7a3a02850673\n",
      "new identifier11checking_test-74ba-49cc-9b55-13055\n",
      "original identifier99e1d6e4-74ba-49cc-9b56-b7a3af836f9\n",
      "new identifier11checking_test-74ba-49cc-9b55-13056\n",
      "original identifier88e1d6e4-74ba-49cc-9b56-b7a3a37596792\n",
      "new identifier11checking_test-74ba-49cc-9b55-13057\n",
      "original identifier33e1d6e4-74ba-49cc-9b56-b7a3a58204856\n",
      "new identifier11checking_test-74ba-49cc-9b55-13058\n",
      "original identifier44e2d6e4-74ba-49cc-9b57-b7a3a64067220\n",
      "new identifier11checking_test-74ba-49cc-9b55-13059\n",
      "original identifier77e1d6e4-74ba-49cc-9b56-b7a3a8305729\n",
      "new identifier11checking_test-74ba-49cc-9b55-13060\n"
     ]
    }
   ],
   "source": [
    "for f in xml_files:\n",
    "    root = parse_xml(f)\n",
    "    base_identifier = load_base_value_iden(filepath_base_identifier)\n",
    "    tree = etree.ElementTree(root)\n",
    "    for index,e in enumerate(root.iter()):   \n",
    "        if index == 10:\n",
    "            print(f'original identifier{e.text}')\n",
    "            e.text = base_identifier\n",
    "            print(f'new identifier{e.text}')\n",
    "            increment_value_iden(base_identifier,filepath_base_identifier) \n",
    "            tree.write(f, encoding='utf-8', xml_declaration=True)\n",
    "            "
   ]
  },
  {
   "cell_type": "code",
   "execution_count": 66,
   "id": "7a220b1f",
   "metadata": {},
   "outputs": [
    {
     "data": {
      "text/plain": [
       "['/Users/cheongray/iras_api_clean_1/7_Bulk Submission/xml_files_for_7_Bulk Submission/1_sample_21.xml',\n",
       " '/Users/cheongray/iras_api_clean_1/7_Bulk Submission/xml_files_for_7_Bulk Submission/6_sample_26.xml',\n",
       " '/Users/cheongray/iras_api_clean_1/7_Bulk Submission/xml_files_for_7_Bulk Submission/2_sample_22.xml',\n",
       " '/Users/cheongray/iras_api_clean_1/7_Bulk Submission/xml_files_for_7_Bulk Submission/5_sample_25.xml',\n",
       " '/Users/cheongray/iras_api_clean_1/7_Bulk Submission/xml_files_for_7_Bulk Submission/9_sample_29.xml',\n",
       " '/Users/cheongray/iras_api_clean_1/7_Bulk Submission/xml_files_for_7_Bulk Submission/8_sample_28.xml',\n",
       " '/Users/cheongray/iras_api_clean_1/7_Bulk Submission/xml_files_for_7_Bulk Submission/3_sample_23.xml',\n",
       " '/Users/cheongray/iras_api_clean_1/7_Bulk Submission/xml_files_for_7_Bulk Submission/4_sample_24.xml',\n",
       " '/Users/cheongray/iras_api_clean_1/7_Bulk Submission/xml_files_for_7_Bulk Submission/7_sample_27.xml']"
      ]
     },
     "execution_count": 66,
     "metadata": {},
     "output_type": "execute_result"
    }
   ],
   "source": [
    "xml_files"
   ]
  },
  {
   "cell_type": "code",
   "execution_count": null,
   "id": "e8032fbc",
   "metadata": {},
   "outputs": [],
   "source": []
  },
  {
   "cell_type": "code",
   "execution_count": null,
   "id": "7c11665b",
   "metadata": {},
   "outputs": [],
   "source": []
  }
 ],
 "metadata": {
  "kernelspec": {
   "display_name": "Python 3 (ipykernel)",
   "language": "python",
   "name": "python3"
  },
  "language_info": {
   "codemirror_mode": {
    "name": "ipython",
    "version": 3
   },
   "file_extension": ".py",
   "mimetype": "text/x-python",
   "name": "python",
   "nbconvert_exporter": "python",
   "pygments_lexer": "ipython3",
   "version": "3.11.5"
  }
 },
 "nbformat": 4,
 "nbformat_minor": 5
}
